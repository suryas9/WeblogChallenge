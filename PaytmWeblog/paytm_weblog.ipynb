{
 "cells": [
  {
   "cell_type": "code",
   "execution_count": 1,
   "metadata": {
    "collapsed": false
   },
   "outputs": [
    {
     "name": "stderr",
     "output_type": "stream",
     "text": [
      "Using TensorFlow backend.\n"
     ]
    }
   ],
   "source": [
    "# Refer all the libraries used in this program\n",
    "import warnings\n",
    "warnings.filterwarnings('ignore')\n",
    "import re\n",
    "import pandas as pd\n",
    "import numpy as np\n",
    "from IPython.display import display\n",
    "from sklearn.preprocessing import MinMaxScaler\n",
    "from sklearn.model_selection import train_test_split\n",
    "from sklearn.ensemble import GradientBoostingClassifier\n",
    "from sklearn.linear_model import LogisticRegression\n",
    "from sklearn.svm import SVC\n",
    "from sklearn.tree import DecisionTreeClassifier\n",
    "from sklearn.metrics import fbeta_score, accuracy_score\n",
    "from keras.layers.core import Dense, Activation, Dropout\n",
    "from keras.layers.recurrent import LSTM\n",
    "from keras.models import Sequential\n",
    "from matplotlib import pyplot"
   ]
  },
  {
   "cell_type": "code",
   "execution_count": 2,
   "metadata": {
    "collapsed": true
   },
   "outputs": [],
   "source": [
    "# Some useful information about the load balancer log from AWS\n",
    "'''\n",
    "server_ip = '-',if load balancer can't send the request to a registered instance, or\n",
    "                if instance closes the connection before a response or instance does not respond before the idle timeout\n",
    "lb_server_time = -1,if the load balancer can't dispatch the request to a registered instance or\n",
    "                    if the registered instance closes the connection or if the client sends a malformed request or\n",
    "                    if the client establishes a connection with the load balancer but does not send any data or\n",
    "                    if the registered instance does not respond before the idle timeout\n",
    "server_backend_time = -1, if the load balancer can't dispatch the request to a registered instance or\n",
    "                          if the registered instance closes the connection or if the client sends a malformed request or\n",
    "                          if the registered instance does not respond before the idle timeout\n",
    "lb_client_response_time = -1, if the load balancer can't dispatch the request to a registered instance or\n",
    "                              if the registered instance closes the connection or if the client sends a malformed request or\n",
    "                              if the registered instance does not respond before the idle timeout\n",
    "client_request :  format: HTTP Method + Protocol://Host header:port + Path + HTTP version\n",
    "user_agent : Agent that identifies the client that originated the request. It consists of one or more product identifiers, product[/version]\n",
    "ssl_cipher = -1, otherwise the value is recorded if the incoming SSL/TLS connection was established after a successful negotiation\n",
    "ssl_protocol = -1, otherwise the value is recorded if the incoming SSL/TLS connection was established after a successful negotiation\n",
    "'''\n",
    "\n",
    "# Load the load balancer log into a dataframe\n",
    "df = pd.read_csv('./unzip/web_log_sample.log', sep=\" \", error_bad_lines=False, header = None, index_col=False,\n",
    "                   names=('request_time', 'lb_name', 'client_ip', 'server_ip', 'lb_server_request_time', 'server_backend_time',\n",
    "                          'lb_client_response_time', 'lb_status_code', 'server_status_code', 'client_request_size',\n",
    "                          'server_rsponse_size', 'client_request', 'user_agent', 'ssl_cipher', 'ssl_protocol'))\n",
    "\n",
    "# df['request_time'] = pd.to_datetime(df['request_time'])\n",
    "# df['request_time'] = df['request_time'].str.split('.', 1).str[0].astype('datetime64[ns]')\n",
    "\n",
    "# Convert the request time to native python datetime data type\n",
    "df['request_time'] = df['request_time'].astype('datetime64[ns]')\n",
    "\n",
    "# Strip the port number of the client's machine, as this may not add value in the current context\n",
    "df['client_ip'] = df['client_ip'].str.split(':', 1).str[0]\n",
    "\n",
    "# Set the request time as index for the data frame\n",
    "df.set_index('request_time', inplace=True)"
   ]
  },
  {
   "cell_type": "code",
   "execution_count": 3,
   "metadata": {
    "collapsed": false
   },
   "outputs": [
    {
     "data": {
      "text/html": [
       "<div>\n",
       "<table border=\"1\" class=\"dataframe\">\n",
       "  <thead>\n",
       "    <tr style=\"text-align: right;\">\n",
       "      <th></th>\n",
       "      <th>lb_name</th>\n",
       "      <th>client_ip</th>\n",
       "      <th>server_ip</th>\n",
       "      <th>lb_server_request_time</th>\n",
       "      <th>server_backend_time</th>\n",
       "      <th>lb_client_response_time</th>\n",
       "      <th>lb_status_code</th>\n",
       "      <th>server_status_code</th>\n",
       "      <th>client_request_size</th>\n",
       "      <th>server_rsponse_size</th>\n",
       "      <th>client_request</th>\n",
       "      <th>user_agent</th>\n",
       "      <th>ssl_cipher</th>\n",
       "      <th>ssl_protocol</th>\n",
       "    </tr>\n",
       "    <tr>\n",
       "      <th>request_time</th>\n",
       "      <th></th>\n",
       "      <th></th>\n",
       "      <th></th>\n",
       "      <th></th>\n",
       "      <th></th>\n",
       "      <th></th>\n",
       "      <th></th>\n",
       "      <th></th>\n",
       "      <th></th>\n",
       "      <th></th>\n",
       "      <th></th>\n",
       "      <th></th>\n",
       "      <th></th>\n",
       "      <th></th>\n",
       "    </tr>\n",
       "  </thead>\n",
       "  <tbody>\n",
       "    <tr>\n",
       "      <th>2015-07-22 09:00:28.019143</th>\n",
       "      <td>marketpalce-shop</td>\n",
       "      <td>123.242.248.130</td>\n",
       "      <td>10.0.6.158:80</td>\n",
       "      <td>0.000022</td>\n",
       "      <td>0.026109</td>\n",
       "      <td>0.000020</td>\n",
       "      <td>200</td>\n",
       "      <td>200</td>\n",
       "      <td>0</td>\n",
       "      <td>699</td>\n",
       "      <td>GET https://paytm.com:443/shop/authresponse?co...</td>\n",
       "      <td>Mozilla/5.0 (Windows NT 6.1; WOW64) AppleWebKi...</td>\n",
       "      <td>ECDHE-RSA-AES128-GCM-SHA256</td>\n",
       "      <td>TLSv1.2</td>\n",
       "    </tr>\n",
       "    <tr>\n",
       "      <th>2015-07-22 09:00:27.894580</th>\n",
       "      <td>marketpalce-shop</td>\n",
       "      <td>203.91.211.44</td>\n",
       "      <td>10.0.4.150:80</td>\n",
       "      <td>0.000024</td>\n",
       "      <td>0.153340</td>\n",
       "      <td>0.000026</td>\n",
       "      <td>200</td>\n",
       "      <td>200</td>\n",
       "      <td>0</td>\n",
       "      <td>1497</td>\n",
       "      <td>GET https://paytm.com:443/shop/wallet/txnhisto...</td>\n",
       "      <td>Mozilla/5.0 (Windows NT 6.1; rv:39.0) Gecko/20...</td>\n",
       "      <td>ECDHE-RSA-AES128-GCM-SHA256</td>\n",
       "      <td>TLSv1.2</td>\n",
       "    </tr>\n",
       "    <tr>\n",
       "      <th>2015-07-22 09:00:27.885745</th>\n",
       "      <td>marketpalce-shop</td>\n",
       "      <td>1.39.32.179</td>\n",
       "      <td>10.0.4.244:80</td>\n",
       "      <td>0.000024</td>\n",
       "      <td>0.164958</td>\n",
       "      <td>0.000017</td>\n",
       "      <td>200</td>\n",
       "      <td>200</td>\n",
       "      <td>0</td>\n",
       "      <td>157</td>\n",
       "      <td>GET https://paytm.com:443/shop/wallet/txnhisto...</td>\n",
       "      <td>Mozilla/5.0 (Windows NT 6.1) AppleWebKit/537.3...</td>\n",
       "      <td>ECDHE-RSA-AES128-GCM-SHA256</td>\n",
       "      <td>TLSv1.2</td>\n",
       "    </tr>\n",
       "    <tr>\n",
       "      <th>2015-07-22 09:00:28.048369</th>\n",
       "      <td>marketpalce-shop</td>\n",
       "      <td>180.179.213.94</td>\n",
       "      <td>10.0.6.108:80</td>\n",
       "      <td>0.000020</td>\n",
       "      <td>0.002333</td>\n",
       "      <td>0.000021</td>\n",
       "      <td>200</td>\n",
       "      <td>200</td>\n",
       "      <td>0</td>\n",
       "      <td>35734</td>\n",
       "      <td>GET https://paytm.com:443/shop/p/micromax-yu-y...</td>\n",
       "      <td>-</td>\n",
       "      <td>ECDHE-RSA-AES128-GCM-SHA256</td>\n",
       "      <td>TLSv1.2</td>\n",
       "    </tr>\n",
       "    <tr>\n",
       "      <th>2015-07-22 09:00:28.036251</th>\n",
       "      <td>marketpalce-shop</td>\n",
       "      <td>120.59.192.208</td>\n",
       "      <td>10.0.4.217:80</td>\n",
       "      <td>0.000024</td>\n",
       "      <td>0.015091</td>\n",
       "      <td>0.000016</td>\n",
       "      <td>200</td>\n",
       "      <td>200</td>\n",
       "      <td>68</td>\n",
       "      <td>640</td>\n",
       "      <td>POST https://paytm.com:443/papi/v1/expresscart...</td>\n",
       "      <td>Mozilla/5.0 (Windows NT 6.1; WOW64) AppleWebKi...</td>\n",
       "      <td>ECDHE-RSA-AES128-GCM-SHA256</td>\n",
       "      <td>TLSv1.2</td>\n",
       "    </tr>\n",
       "  </tbody>\n",
       "</table>\n",
       "</div>"
      ],
      "text/plain": [
       "                                     lb_name        client_ip      server_ip  \\\n",
       "request_time                                                                   \n",
       "2015-07-22 09:00:28.019143  marketpalce-shop  123.242.248.130  10.0.6.158:80   \n",
       "2015-07-22 09:00:27.894580  marketpalce-shop    203.91.211.44  10.0.4.150:80   \n",
       "2015-07-22 09:00:27.885745  marketpalce-shop      1.39.32.179  10.0.4.244:80   \n",
       "2015-07-22 09:00:28.048369  marketpalce-shop   180.179.213.94  10.0.6.108:80   \n",
       "2015-07-22 09:00:28.036251  marketpalce-shop   120.59.192.208  10.0.4.217:80   \n",
       "\n",
       "                            lb_server_request_time  server_backend_time  \\\n",
       "request_time                                                              \n",
       "2015-07-22 09:00:28.019143                0.000022             0.026109   \n",
       "2015-07-22 09:00:27.894580                0.000024             0.153340   \n",
       "2015-07-22 09:00:27.885745                0.000024             0.164958   \n",
       "2015-07-22 09:00:28.048369                0.000020             0.002333   \n",
       "2015-07-22 09:00:28.036251                0.000024             0.015091   \n",
       "\n",
       "                            lb_client_response_time  lb_status_code  \\\n",
       "request_time                                                          \n",
       "2015-07-22 09:00:28.019143                 0.000020             200   \n",
       "2015-07-22 09:00:27.894580                 0.000026             200   \n",
       "2015-07-22 09:00:27.885745                 0.000017             200   \n",
       "2015-07-22 09:00:28.048369                 0.000021             200   \n",
       "2015-07-22 09:00:28.036251                 0.000016             200   \n",
       "\n",
       "                            server_status_code  client_request_size  \\\n",
       "request_time                                                          \n",
       "2015-07-22 09:00:28.019143                 200                    0   \n",
       "2015-07-22 09:00:27.894580                 200                    0   \n",
       "2015-07-22 09:00:27.885745                 200                    0   \n",
       "2015-07-22 09:00:28.048369                 200                    0   \n",
       "2015-07-22 09:00:28.036251                 200                   68   \n",
       "\n",
       "                            server_rsponse_size  \\\n",
       "request_time                                      \n",
       "2015-07-22 09:00:28.019143                  699   \n",
       "2015-07-22 09:00:27.894580                 1497   \n",
       "2015-07-22 09:00:27.885745                  157   \n",
       "2015-07-22 09:00:28.048369                35734   \n",
       "2015-07-22 09:00:28.036251                  640   \n",
       "\n",
       "                                                               client_request  \\\n",
       "request_time                                                                    \n",
       "2015-07-22 09:00:28.019143  GET https://paytm.com:443/shop/authresponse?co...   \n",
       "2015-07-22 09:00:27.894580  GET https://paytm.com:443/shop/wallet/txnhisto...   \n",
       "2015-07-22 09:00:27.885745  GET https://paytm.com:443/shop/wallet/txnhisto...   \n",
       "2015-07-22 09:00:28.048369  GET https://paytm.com:443/shop/p/micromax-yu-y...   \n",
       "2015-07-22 09:00:28.036251  POST https://paytm.com:443/papi/v1/expresscart...   \n",
       "\n",
       "                                                                   user_agent  \\\n",
       "request_time                                                                    \n",
       "2015-07-22 09:00:28.019143  Mozilla/5.0 (Windows NT 6.1; WOW64) AppleWebKi...   \n",
       "2015-07-22 09:00:27.894580  Mozilla/5.0 (Windows NT 6.1; rv:39.0) Gecko/20...   \n",
       "2015-07-22 09:00:27.885745  Mozilla/5.0 (Windows NT 6.1) AppleWebKit/537.3...   \n",
       "2015-07-22 09:00:28.048369                                                  -   \n",
       "2015-07-22 09:00:28.036251  Mozilla/5.0 (Windows NT 6.1; WOW64) AppleWebKi...   \n",
       "\n",
       "                                             ssl_cipher ssl_protocol  \n",
       "request_time                                                          \n",
       "2015-07-22 09:00:28.019143  ECDHE-RSA-AES128-GCM-SHA256      TLSv1.2  \n",
       "2015-07-22 09:00:27.894580  ECDHE-RSA-AES128-GCM-SHA256      TLSv1.2  \n",
       "2015-07-22 09:00:27.885745  ECDHE-RSA-AES128-GCM-SHA256      TLSv1.2  \n",
       "2015-07-22 09:00:28.048369  ECDHE-RSA-AES128-GCM-SHA256      TLSv1.2  \n",
       "2015-07-22 09:00:28.036251  ECDHE-RSA-AES128-GCM-SHA256      TLSv1.2  "
      ]
     },
     "metadata": {},
     "output_type": "display_data"
    },
    {
     "name": "stdout",
     "output_type": "stream",
     "text": [
      "The number of log entries are 1158500\n"
     ]
    }
   ],
   "source": [
    "from IPython.display import display\n",
    "# The original data count and a few sample rows\n",
    "display(df.head())\n",
    "print('The number of log entries are {}'.format(len(df)))"
   ]
  },
  {
   "cell_type": "code",
   "execution_count": 4,
   "metadata": {
    "collapsed": true
   },
   "outputs": [],
   "source": [
    "# The dataset is large for single processor laptop, so a sample with 100,000 requests was taken\n",
    "# It is time series dataset, so the sample was taken as a continuous block, without shuffling\n",
    "df_sample = df[0:100000]"
   ]
  },
  {
   "cell_type": "code",
   "execution_count": 5,
   "metadata": {
    "collapsed": true
   },
   "outputs": [],
   "source": [
    "# Function transforms IP address to a long integer before feeding into learning algorithms\n",
    "# Here the dots are removed and each integer is added with 100 to make it 3 fixed digits and concatenate them together\n",
    "# For example, 1.2.3.4 is transformed into 101102103104\n",
    "# Similarly 102.36.45.203 is transformed to 202136145303\n",
    "def transform_ip(ip_add):\n",
    "    ip_add_tran = int(''.join(map(str,list(map(lambda x:int(x)+100, re.findall(r\"[\\w']+\", ip_add))))))\n",
    "    return ip_add_tran"
   ]
  },
  {
   "cell_type": "markdown",
   "metadata": {},
   "source": [
    "## Sessionize by IP addresses and aggregrate page hits within 15 minutes"
   ]
  },
  {
   "cell_type": "code",
   "execution_count": 6,
   "metadata": {
    "collapsed": false
   },
   "outputs": [],
   "source": [
    "# Routine to sessionize the web log with max session time as 15 minutes\n",
    "# Dataframes to hold the data after computations\n",
    "df_sess = pd.DataFrame({'client_ip' : [], 'sess_start' : [], 'sess_end' : [], 'resp_time' : [], 'sess_time' : [], \n",
    "                        'sess_class' : [], 'sess_id' : [], 'client_ip_flat' : []})\n",
    "df_sess_url = pd.DataFrame({'sess_id' : [], 'client_ip' : [], 'client_request' : []})\n",
    "\n",
    "# Initialize flags and counts\n",
    "j_sess = 1\n",
    "new_sess = 0\n",
    "\n",
    "# Iterate on every client or IP\n",
    "for ip in pd.unique(df_sample['client_ip'].values.ravel()):    \n",
    "    i = 0\n",
    "    len_date = len(df_sample.index[df_sample['client_ip'] == ip])\n",
    "    # Iterate on every request from the given IP\n",
    "    for ix, req_dt in enumerate(df_sample.index[df_sample['client_ip'] == ip]):  \n",
    "        if i == 0:\n",
    "            curr_dt = req_dt\n",
    "        \n",
    "        # Verify the client's last request within 15 minutes and populate the dataframe with session information\n",
    "        if pd.Timedelta(req_dt - curr_dt).seconds / 60.0 > 15:\n",
    "            new_sess = 1\n",
    "            resp_t = 0\n",
    "            # Add all the response times, unless it is a bad request with -1\n",
    "            if df_sample['lb_server_request_time'][ix] > 0:\n",
    "                resp_t = df_sample['lb_server_request_time'][ix] + df_sample['server_backend_time'][ix] + df_sample['lb_client_response_time'][ix]\n",
    "            # Compute session time and add response time of last request to complete the session\n",
    "            sess_t = pd.Timedelta(prev_req_dt - curr_dt).seconds/60\n",
    "            sess_t = sess_t + resp_t\n",
    "            # Update session class with labels, splitting sessions with below 20 seconds and above 20 seconds\n",
    "            if sess_t <= 0.333:\n",
    "                sess_c = 0\n",
    "            else:\n",
    "                sess_c = 1\n",
    "            # Transform IP address by calling the function\n",
    "            ip_tran = transform_ip(ip)\n",
    "            \n",
    "            df_sess = df_sess.append({'client_ip': ip, 'sess_start': curr_dt, 'sess_end': prev_req_dt,\n",
    "                                     'resp_time' : resp_t, 'sess_time' : sess_t, 'sess_id' : j_sess,\n",
    "                                     'sess_class' : sess_c, 'client_ip_flat' : ip_tran}, ignore_index=True)\n",
    "            curr_dt = req_dt\n",
    "            \n",
    "        # Verify the client's first request is last request and populate the dataframe with session information\n",
    "        elif (ix + 1 == len_date):\n",
    "            new_sess = 1\n",
    "            resp_t = 0\n",
    "            # Add all the response times, unless it is a bad request with -1\n",
    "            if df_sample['lb_server_request_time'][ix] > 0:\n",
    "                resp_t = df_sample['lb_server_request_time'][ix] + df_sample['server_backend_time'][ix] + df_sample['lb_client_response_time'][ix]\n",
    "            # Compute session time and add response time of last request to complete the session\n",
    "            sess_t = pd.Timedelta(req_dt - curr_dt).seconds/60\n",
    "            sess_t = sess_t + resp_t\n",
    "            # Update session class with labels, splitting sessions with below 20 seconds and above 20 seconds\n",
    "            if sess_t <= 0.333:\n",
    "                sess_c = 0\n",
    "            else:\n",
    "                sess_c = 1\n",
    "            # Transform IP address by calling the function\n",
    "            ip_tran = transform_ip(ip)\n",
    "            \n",
    "            df_sess = df_sess.append({'client_ip': ip, 'sess_start': curr_dt, 'sess_end': req_dt,\n",
    "                                     'resp_time' : resp_t, 'sess_time' : sess_t, 'sess_id' : j_sess,\n",
    "                                     'sess_class' : sess_c, 'client_ip_flat' : ip_tran}, ignore_index=True)\n",
    "        \n",
    "        # Strip the GET POST strings from the URL\n",
    "        url = df_sample['client_request'][ix].lstrip('GET POST ')\n",
    "        # Populate the second dataframe with URL requests from clients\n",
    "        df_sess_url = df_sess_url.append({'sess_id' : j_sess, 'client_ip': ip, 'client_request' : url}, ignore_index=True)\n",
    "        # Resetting some parameters to enable 15 minute sessions\n",
    "        if new_sess == 1:\n",
    "            j_sess += 1\n",
    "            new_sess = 0\n",
    "        prev_req_dt = req_dt   \n",
    "        i += 1"
   ]
  },
  {
   "cell_type": "code",
   "execution_count": 7,
   "metadata": {
    "collapsed": false
   },
   "outputs": [
    {
     "data": {
      "text/html": [
       "<div>\n",
       "<table border=\"1\" class=\"dataframe\">\n",
       "  <thead>\n",
       "    <tr style=\"text-align: right;\">\n",
       "      <th></th>\n",
       "      <th>client_ip</th>\n",
       "      <th>client_ip_flat</th>\n",
       "      <th>resp_time</th>\n",
       "      <th>sess_class</th>\n",
       "      <th>sess_end</th>\n",
       "      <th>sess_id</th>\n",
       "      <th>sess_start</th>\n",
       "      <th>sess_time</th>\n",
       "    </tr>\n",
       "  </thead>\n",
       "  <tbody>\n",
       "    <tr>\n",
       "      <th>0</th>\n",
       "      <td>123.242.248.130</td>\n",
       "      <td>2.233423e+11</td>\n",
       "      <td>0.003275</td>\n",
       "      <td>1.0</td>\n",
       "      <td>2015-07-22 09:03:38.546946</td>\n",
       "      <td>1.0</td>\n",
       "      <td>2015-07-22 09:00:28.019143</td>\n",
       "      <td>3.169942</td>\n",
       "    </tr>\n",
       "    <tr>\n",
       "      <th>1</th>\n",
       "      <td>203.91.211.44</td>\n",
       "      <td>3.031913e+11</td>\n",
       "      <td>0.002400</td>\n",
       "      <td>1.0</td>\n",
       "      <td>2015-07-22 09:04:41.659895</td>\n",
       "      <td>2.0</td>\n",
       "      <td>2015-07-22 09:00:27.894580</td>\n",
       "      <td>4.219067</td>\n",
       "    </tr>\n",
       "    <tr>\n",
       "      <th>2</th>\n",
       "      <td>1.39.32.179</td>\n",
       "      <td>1.011391e+11</td>\n",
       "      <td>0.004945</td>\n",
       "      <td>1.0</td>\n",
       "      <td>2015-07-22 09:02:25.496229</td>\n",
       "      <td>3.0</td>\n",
       "      <td>2015-07-22 09:00:27.885745</td>\n",
       "      <td>1.954945</td>\n",
       "    </tr>\n",
       "    <tr>\n",
       "      <th>3</th>\n",
       "      <td>180.179.213.94</td>\n",
       "      <td>2.802793e+11</td>\n",
       "      <td>0.023913</td>\n",
       "      <td>1.0</td>\n",
       "      <td>2015-07-22 09:04:42.799708</td>\n",
       "      <td>4.0</td>\n",
       "      <td>2015-07-22 09:00:28.048369</td>\n",
       "      <td>4.257246</td>\n",
       "    </tr>\n",
       "    <tr>\n",
       "      <th>4</th>\n",
       "      <td>120.59.192.208</td>\n",
       "      <td>2.201593e+11</td>\n",
       "      <td>0.015131</td>\n",
       "      <td>1.0</td>\n",
       "      <td>2015-07-22 09:01:13.820720</td>\n",
       "      <td>5.0</td>\n",
       "      <td>2015-07-22 09:00:28.036251</td>\n",
       "      <td>0.765131</td>\n",
       "    </tr>\n",
       "  </tbody>\n",
       "</table>\n",
       "</div>"
      ],
      "text/plain": [
       "         client_ip  client_ip_flat  resp_time  sess_class  \\\n",
       "0  123.242.248.130    2.233423e+11   0.003275         1.0   \n",
       "1    203.91.211.44    3.031913e+11   0.002400         1.0   \n",
       "2      1.39.32.179    1.011391e+11   0.004945         1.0   \n",
       "3   180.179.213.94    2.802793e+11   0.023913         1.0   \n",
       "4   120.59.192.208    2.201593e+11   0.015131         1.0   \n",
       "\n",
       "                    sess_end  sess_id                 sess_start  sess_time  \n",
       "0 2015-07-22 09:03:38.546946      1.0 2015-07-22 09:00:28.019143   3.169942  \n",
       "1 2015-07-22 09:04:41.659895      2.0 2015-07-22 09:00:27.894580   4.219067  \n",
       "2 2015-07-22 09:02:25.496229      3.0 2015-07-22 09:00:27.885745   1.954945  \n",
       "3 2015-07-22 09:04:42.799708      4.0 2015-07-22 09:00:28.048369   4.257246  \n",
       "4 2015-07-22 09:01:13.820720      5.0 2015-07-22 09:00:28.036251   0.765131  "
      ]
     },
     "metadata": {},
     "output_type": "display_data"
    },
    {
     "name": "stdout",
     "output_type": "stream",
     "text": [
      "The number of sessions for the given sample are 10684\n"
     ]
    }
   ],
   "source": [
    "# Display a sample of session results\n",
    "display(df_sess.head())\n",
    "print('The number of sessions for the given sample are {}'.format(len(df_sess)))\n",
    "df_sess.to_csv('Sessions.csv')"
   ]
  },
  {
   "cell_type": "markdown",
   "metadata": {},
   "source": [
    "## Find the average session time"
   ]
  },
  {
   "cell_type": "code",
   "execution_count": 11,
   "metadata": {
    "collapsed": false
   },
   "outputs": [
    {
     "name": "stdout",
     "output_type": "stream",
     "text": [
      "The average session time in seconds for the given sample : 56.14\n"
     ]
    }
   ],
   "source": [
    "# The average session time for the given sample in seconds\n",
    "print('The average session time in seconds for the given sample : {:.2f}'.format(df_sess[\"sess_time\"].mean() * 60))"
   ]
  },
  {
   "cell_type": "markdown",
   "metadata": {},
   "source": [
    "## Unique URL visits per session"
   ]
  },
  {
   "cell_type": "code",
   "execution_count": 12,
   "metadata": {
    "collapsed": false
   },
   "outputs": [],
   "source": [
    "# Group the URLs with count on unique URLs for every session\n",
    "df_sess_uni_url = df_sess_url.groupby(['sess_id', 'client_ip', 'client_request']).size().reset_index()\n",
    "df_sess_uni_url.columns = ['sess_id', 'client_ip', 'client_request', 'url_count']\n",
    "\n",
    "# Group to count the number of unique URLs for every session\n",
    "df_sess_uni_url_count = df_sess_uni_url.groupby(['sess_id', 'client_ip']).size().reset_index()\n",
    "df_sess_uni_url_count.columns = ['sess_id', 'client_ip', 'uni_url_count']"
   ]
  },
  {
   "cell_type": "code",
   "execution_count": 13,
   "metadata": {
    "collapsed": false
   },
   "outputs": [
    {
     "data": {
      "text/html": [
       "<div>\n",
       "<table border=\"1\" class=\"dataframe\">\n",
       "  <thead>\n",
       "    <tr style=\"text-align: right;\">\n",
       "      <th></th>\n",
       "      <th>sess_id</th>\n",
       "      <th>client_ip</th>\n",
       "      <th>client_request</th>\n",
       "      <th>url_count</th>\n",
       "    </tr>\n",
       "  </thead>\n",
       "  <tbody>\n",
       "    <tr>\n",
       "      <th>0</th>\n",
       "      <td>1.0</td>\n",
       "      <td>123.242.248.130</td>\n",
       "      <td>https://paytm.com:443/ HTTP/1.1</td>\n",
       "      <td>1</td>\n",
       "    </tr>\n",
       "    <tr>\n",
       "      <th>1</th>\n",
       "      <td>1.0</td>\n",
       "      <td>123.242.248.130</td>\n",
       "      <td>https://paytm.com:443/api/user/favourite?chann...</td>\n",
       "      <td>2</td>\n",
       "    </tr>\n",
       "    <tr>\n",
       "      <th>2</th>\n",
       "      <td>1.0</td>\n",
       "      <td>123.242.248.130</td>\n",
       "      <td>https://paytm.com:443/api/v1/expresscart/check...</td>\n",
       "      <td>1</td>\n",
       "    </tr>\n",
       "    <tr>\n",
       "      <th>3</th>\n",
       "      <td>1.0</td>\n",
       "      <td>123.242.248.130</td>\n",
       "      <td>https://paytm.com:443/blog/wp-content/themes/s...</td>\n",
       "      <td>1</td>\n",
       "    </tr>\n",
       "    <tr>\n",
       "      <th>4</th>\n",
       "      <td>1.0</td>\n",
       "      <td>123.242.248.130</td>\n",
       "      <td>https://paytm.com:443/favicon.ico HTTP/1.1</td>\n",
       "      <td>1</td>\n",
       "    </tr>\n",
       "  </tbody>\n",
       "</table>\n",
       "</div>"
      ],
      "text/plain": [
       "   sess_id        client_ip  \\\n",
       "0      1.0  123.242.248.130   \n",
       "1      1.0  123.242.248.130   \n",
       "2      1.0  123.242.248.130   \n",
       "3      1.0  123.242.248.130   \n",
       "4      1.0  123.242.248.130   \n",
       "\n",
       "                                      client_request  url_count  \n",
       "0                    https://paytm.com:443/ HTTP/1.1          1  \n",
       "1  https://paytm.com:443/api/user/favourite?chann...          2  \n",
       "2  https://paytm.com:443/api/v1/expresscart/check...          1  \n",
       "3  https://paytm.com:443/blog/wp-content/themes/s...          1  \n",
       "4         https://paytm.com:443/favicon.ico HTTP/1.1          1  "
      ]
     },
     "metadata": {},
     "output_type": "display_data"
    },
    {
     "name": "stdout",
     "output_type": "stream",
     "text": [
      "The unique urls for the given sample : 72621\n"
     ]
    },
    {
     "data": {
      "text/html": [
       "<div>\n",
       "<table border=\"1\" class=\"dataframe\">\n",
       "  <thead>\n",
       "    <tr style=\"text-align: right;\">\n",
       "      <th></th>\n",
       "      <th>sess_id</th>\n",
       "      <th>client_ip</th>\n",
       "      <th>uni_url_count</th>\n",
       "    </tr>\n",
       "  </thead>\n",
       "  <tbody>\n",
       "    <tr>\n",
       "      <th>0</th>\n",
       "      <td>1.0</td>\n",
       "      <td>123.242.248.130</td>\n",
       "      <td>25</td>\n",
       "    </tr>\n",
       "    <tr>\n",
       "      <th>1</th>\n",
       "      <td>2.0</td>\n",
       "      <td>203.91.211.44</td>\n",
       "      <td>10</td>\n",
       "    </tr>\n",
       "    <tr>\n",
       "      <th>2</th>\n",
       "      <td>3.0</td>\n",
       "      <td>1.39.32.179</td>\n",
       "      <td>19</td>\n",
       "    </tr>\n",
       "    <tr>\n",
       "      <th>3</th>\n",
       "      <td>4.0</td>\n",
       "      <td>180.179.213.94</td>\n",
       "      <td>23</td>\n",
       "    </tr>\n",
       "    <tr>\n",
       "      <th>4</th>\n",
       "      <td>5.0</td>\n",
       "      <td>120.59.192.208</td>\n",
       "      <td>4</td>\n",
       "    </tr>\n",
       "  </tbody>\n",
       "</table>\n",
       "</div>"
      ],
      "text/plain": [
       "   sess_id        client_ip  uni_url_count\n",
       "0      1.0  123.242.248.130             25\n",
       "1      2.0    203.91.211.44             10\n",
       "2      3.0      1.39.32.179             19\n",
       "3      4.0   180.179.213.94             23\n",
       "4      5.0   120.59.192.208              4"
      ]
     },
     "metadata": {},
     "output_type": "display_data"
    },
    {
     "name": "stdout",
     "output_type": "stream",
     "text": [
      "The number of unique urls per session for the given sample : 10684\n"
     ]
    }
   ],
   "source": [
    "# Display unique URLs for every session\n",
    "display(df_sess_uni_url.head())\n",
    "print('The unique urls for the given sample : {}'.format(len(df_sess_uni_url)))\n",
    "df_sess_uni_url.to_csv('Unique_URL.csv')\n",
    "\n",
    "# Display the number of unique URLs per session\n",
    "display(df_sess_uni_url_count.head())\n",
    "print('The number of unique urls per session for the given sample : {}'.format(len(df_sess_uni_url_count)))\n",
    "df_sess_uni_url_count.to_csv('Unique_URL_count.csv')"
   ]
  },
  {
   "cell_type": "markdown",
   "metadata": {},
   "source": [
    "## Find the most engaged users with longest session times"
   ]
  },
  {
   "cell_type": "code",
   "execution_count": 14,
   "metadata": {
    "collapsed": false
   },
   "outputs": [
    {
     "data": {
      "text/html": [
       "<div>\n",
       "<table border=\"1\" class=\"dataframe\">\n",
       "  <thead>\n",
       "    <tr style=\"text-align: right;\">\n",
       "      <th></th>\n",
       "      <th>client_ip</th>\n",
       "      <th>client_ip_flat</th>\n",
       "      <th>resp_time</th>\n",
       "      <th>sess_class</th>\n",
       "      <th>sess_end</th>\n",
       "      <th>sess_id</th>\n",
       "      <th>sess_start</th>\n",
       "      <th>sess_time</th>\n",
       "    </tr>\n",
       "  </thead>\n",
       "  <tbody>\n",
       "    <tr>\n",
       "      <th>259</th>\n",
       "      <td>119.81.61.166</td>\n",
       "      <td>2.191812e+11</td>\n",
       "      <td>0.188175</td>\n",
       "      <td>1.0</td>\n",
       "      <td>2015-07-22 09:04:42.449828</td>\n",
       "      <td>260.0</td>\n",
       "      <td>2015-07-22 09:00:29.145692</td>\n",
       "      <td>4.404842</td>\n",
       "    </tr>\n",
       "    <tr>\n",
       "      <th>112</th>\n",
       "      <td>125.17.82.14</td>\n",
       "      <td>2.251172e+11</td>\n",
       "      <td>0.085776</td>\n",
       "      <td>1.0</td>\n",
       "      <td>2015-07-22 09:04:42.952679</td>\n",
       "      <td>113.0</td>\n",
       "      <td>2015-07-22 09:00:28.371026</td>\n",
       "      <td>4.319109</td>\n",
       "    </tr>\n",
       "    <tr>\n",
       "      <th>21</th>\n",
       "      <td>110.172.137.145</td>\n",
       "      <td>2.102722e+11</td>\n",
       "      <td>0.069577</td>\n",
       "      <td>1.0</td>\n",
       "      <td>2015-07-22 09:04:43.039265</td>\n",
       "      <td>22.0</td>\n",
       "      <td>2015-07-22 09:00:28.078577</td>\n",
       "      <td>4.302910</td>\n",
       "    </tr>\n",
       "    <tr>\n",
       "      <th>77</th>\n",
       "      <td>106.78.65.56</td>\n",
       "      <td>2.061782e+11</td>\n",
       "      <td>0.072296</td>\n",
       "      <td>1.0</td>\n",
       "      <td>2015-07-22 09:04:41.213484</td>\n",
       "      <td>78.0</td>\n",
       "      <td>2015-07-22 09:00:28.161422</td>\n",
       "      <td>4.288963</td>\n",
       "    </tr>\n",
       "    <tr>\n",
       "      <th>644</th>\n",
       "      <td>203.197.245.20</td>\n",
       "      <td>3.032973e+11</td>\n",
       "      <td>0.114001</td>\n",
       "      <td>1.0</td>\n",
       "      <td>2015-07-22 09:04:42.577345</td>\n",
       "      <td>645.0</td>\n",
       "      <td>2015-07-22 09:00:31.738355</td>\n",
       "      <td>4.280668</td>\n",
       "    </tr>\n",
       "  </tbody>\n",
       "</table>\n",
       "</div>"
      ],
      "text/plain": [
       "           client_ip  client_ip_flat  resp_time  sess_class  \\\n",
       "259    119.81.61.166    2.191812e+11   0.188175         1.0   \n",
       "112     125.17.82.14    2.251172e+11   0.085776         1.0   \n",
       "21   110.172.137.145    2.102722e+11   0.069577         1.0   \n",
       "77      106.78.65.56    2.061782e+11   0.072296         1.0   \n",
       "644   203.197.245.20    3.032973e+11   0.114001         1.0   \n",
       "\n",
       "                      sess_end  sess_id                 sess_start  sess_time  \n",
       "259 2015-07-22 09:04:42.449828    260.0 2015-07-22 09:00:29.145692   4.404842  \n",
       "112 2015-07-22 09:04:42.952679    113.0 2015-07-22 09:00:28.371026   4.319109  \n",
       "21  2015-07-22 09:04:43.039265     22.0 2015-07-22 09:00:28.078577   4.302910  \n",
       "77  2015-07-22 09:04:41.213484     78.0 2015-07-22 09:00:28.161422   4.288963  \n",
       "644 2015-07-22 09:04:42.577345    645.0 2015-07-22 09:00:31.738355   4.280668  "
      ]
     },
     "metadata": {},
     "output_type": "display_data"
    }
   ],
   "source": [
    "# Display the IP addresses with longest session time on top\n",
    "display(df_sess.sort_values(['sess_time'], ascending=[False])[:5])\n",
    "df_sess.sort_values(['sess_time'], ascending=[False]).to_csv('Long_session.csv')"
   ]
  },
  {
   "cell_type": "markdown",
   "metadata": {},
   "source": [
    "## Predict session lengths against IP addresses"
   ]
  },
  {
   "cell_type": "markdown",
   "metadata": {},
   "source": [
    "#### The below model is a simple model built on two features, as I am running this model on a small sample of data. Otherwise the features like \"Session Start Time\" and \"Server Response Time\" influence the user behaviour on how long they spend on the site, but it needs large amount of data to verify this behaviour. It is discussed in detail in the document."
   ]
  },
  {
   "cell_type": "markdown",
   "metadata": {},
   "source": [
    "#### IP addresses are transformed into a fixed 12 digit number, with the assumption that these addresses relate to some kind of geographical position. Alternatively the four integers in the IP address can be separated as four different features and then extract the features to reduce the dimensionality. It is also discussed in the document. "
   ]
  },
  {
   "cell_type": "code",
   "execution_count": 15,
   "metadata": {
    "collapsed": false
   },
   "outputs": [
    {
     "data": {
      "image/png": "[encoded data removed]",
      "text/plain": [
       "<matplotlib.figure.Figure at 0x4c544a8>"
      ]
     },
     "metadata": {},
     "output_type": "display_data"
    }
   ],
   "source": [
    "# Plot to see the distribution of IP addresses with session times\n",
    "fig = pyplot.figure()\n",
    "pyplot.scatter(df_sess['client_ip_flat'], df_sess['sess_time'])\n",
    "fig.suptitle('IP Address vs Session Time', fontsize=14)\n",
    "pyplot.xlabel('IP Address', fontsize=12)\n",
    "pyplot.ylabel('Session Time', fontsize=12)\n",
    "pyplot.show()"
   ]
  },
  {
   "cell_type": "markdown",
   "metadata": {},
   "source": [
    "#### There are no outliers observed from this plot, so no further action needed about out of bound data points. "
   ]
  },
  {
   "cell_type": "markdown",
   "metadata": {},
   "source": [
    "#### Here I am using a binary classification to separate the users who spent less than 20 seconds (probably the non-productive users) and those who spent more than 20 seconds."
   ]
  },
  {
   "cell_type": "code",
   "execution_count": 17,
   "metadata": {
    "collapsed": false
   },
   "outputs": [],
   "source": [
    "# Apply log transformation for normal distribution of IP addresses\n",
    "ip_log = np.log(list(map(float, df_sess['client_ip_flat'])))\n",
    "\n",
    "# Normalize transformed IP addresses, as they are in the large range\n",
    "scaler = MinMaxScaler()\n",
    "ip_scale = scaler.fit_transform(ip_log.reshape(-1, 1))  \n",
    "\n",
    "# Binary labels\n",
    "sess_label = df_sess['sess_class']\n",
    "\n",
    "# One hot encoding of IP Address\n",
    "# new_data = pd.get_dummies(df_sess['client_ip_flat'])   \n",
    "\n",
    "# Strip the last 3 digits of IP Address\n",
    "# new_data = df_sess['client_ip_flat'].floordiv(1000)[:, None]\n",
    "\n",
    "# Strip the first 3 digits of the IP Address\n",
    "# new_data = divmod(df_sess['client_ip_flat'], 1000000000)[1][:, None]\n",
    "\n",
    "# Split the data into training and testing data sets\n",
    "X_train, X_test, y_train, y_test = train_test_split(ip_scale, sess_label, test_size=0.20, random_state=0)"
   ]
  },
  {
   "cell_type": "code",
   "execution_count": 18,
   "metadata": {
    "collapsed": true
   },
   "outputs": [],
   "source": [
    "# Function for train and test classifiers\n",
    "def train_test_classifier(clf, X_train, y_train, X_test, y_test):\n",
    "    # Train the classifier\n",
    "    clf.fit(X_train, y_train)\n",
    "    # Predict on the test data\n",
    "    predict = clf.predict(X_test)\n",
    "    # Report the chosen metric\n",
    "    fbeta = fbeta_score(y_test, predict, beta=1) * 100\n",
    "    return fbeta"
   ]
  },
  {
   "cell_type": "code",
   "execution_count": 19,
   "metadata": {
    "collapsed": false
   },
   "outputs": [
    {
     "name": "stdout",
     "output_type": "stream",
     "text": [
      "The fbeta score is 58.50%\n"
     ]
    }
   ],
   "source": [
    "# Initialize the Gradient Boosting Classifier\n",
    "clf = GradientBoostingClassifier(random_state=0)\n",
    "# Call the function to train and test the classifier\n",
    "fscore = train_test_classifier(clf, X_train, y_train, X_test, y_test)\n",
    "# Report the metric\n",
    "print('The fbeta score is {:.2f}%'.format(fscore))"
   ]
  },
  {
   "cell_type": "code",
   "execution_count": 21,
   "metadata": {
    "collapsed": false
   },
   "outputs": [
    {
     "name": "stdout",
     "output_type": "stream",
     "text": [
      "The fbeta score is 66.85%\n"
     ]
    }
   ],
   "source": [
    "# Initialize the Logistic Regression Classifier\n",
    "clf = LogisticRegression(random_state=0)\n",
    "# Call the function to train and test the classifier\n",
    "fscore = train_test_classifier(clf, X_train, y_train, X_test, y_test)\n",
    "# Report the metric\n",
    "print('The fbeta score is {:.2f}%'.format(fscore))"
   ]
  },
  {
   "cell_type": "code",
   "execution_count": 22,
   "metadata": {
    "collapsed": false
   },
   "outputs": [
    {
     "name": "stdout",
     "output_type": "stream",
     "text": [
      "The fbeta score is 66.85%\n"
     ]
    }
   ],
   "source": [
    "# Initialize the Support Vector Classifier\n",
    "clf = SVC(kernel='rbf', C=100, random_state=0)\n",
    "# Call the function to train and test the classifier\n",
    "fscore = train_test_classifier(clf, X_train, y_train, X_test, y_test)\n",
    "# Report the metric\n",
    "print('The fbeta score is {:.2f}%'.format(fscore))"
   ]
  },
  {
   "cell_type": "markdown",
   "metadata": {},
   "source": [
    "## Predict number of unique URLs against IP addresses"
   ]
  },
  {
   "cell_type": "markdown",
   "metadata": {},
   "source": [
    "#### The below model is a simple model built on two features, as I am running this model on a small sample of data. Otherwise the features like \"Session Start Time\" and \"Server Response Time\" influence the user behaviour on how many pages (URLs) they visit on the site, but it needs large amount of data to verify this behaviour. It is discussed in detail in the document."
   ]
  },
  {
   "cell_type": "code",
   "execution_count": 23,
   "metadata": {
    "collapsed": true
   },
   "outputs": [],
   "source": [
    "# Transforming IP address in the unique URL dataframe by calling the function\n",
    "df_sess_uni_url_count['client_ip_flat'] = \"\"\n",
    "for i, ip in enumerate(df_sess_uni_url_count['client_ip']):\n",
    "    df_sess_uni_url_count['client_ip_flat'][i] = transform_ip(ip)"
   ]
  },
  {
   "cell_type": "code",
   "execution_count": 24,
   "metadata": {
    "collapsed": false
   },
   "outputs": [
    {
     "data": {
      "image/png": "[encoded data removed]",
      "text/plain": [
       "<matplotlib.figure.Figure at 0x22c8d4a8>"
      ]
     },
     "metadata": {},
     "output_type": "display_data"
    }
   ],
   "source": [
    "# Plot to see the distribution of IP addresses with unique page visits\n",
    "fig = pyplot.figure()\n",
    "pyplot.scatter(df_sess_uni_url_count['client_ip_flat'], df_sess_uni_url_count['uni_url_count'])\n",
    "fig.suptitle('IP Address vs Unique Page Visits', fontsize=14)\n",
    "pyplot.xlabel('IP Address', fontsize=12)\n",
    "pyplot.ylabel('Unique Page Visits', fontsize=12)\n",
    "pyplot.show()"
   ]
  },
  {
   "cell_type": "markdown",
   "metadata": {},
   "source": [
    "#### There are outliers in the upper quartile range, so find the data points and remove extreme outliers only, to avoid losing important training data."
   ]
  },
  {
   "cell_type": "code",
   "execution_count": 40,
   "metadata": {
    "collapsed": false
   },
   "outputs": [
    {
     "data": {
      "text/plain": [
       "16       159\n",
       "75        97\n",
       "101     1104\n",
       "149      295\n",
       "157      111\n",
       "233      190\n",
       "259      238\n",
       "610      134\n",
       "2855     195\n",
       "2961      97\n",
       "Name: uni_url_count, dtype: int64"
      ]
     },
     "metadata": {},
     "output_type": "display_data"
    }
   ],
   "source": [
    "# Copy the dataframe to remove the outliers\n",
    "df_url_count_out = df_sess_uni_url_count.copy()\n",
    "\n",
    "# Find the outliers in the upper quartile of the number of urls\n",
    "q75 = np.percentile((df_url_count_out['uni_url_count']), 75)\n",
    "    \n",
    "# Interquartile range for outlier\n",
    "iqr = 11 * q75       \n",
    "        \n",
    "# Find the indices for outliers\n",
    "out  = df_url_count_out.index[~((df_url_count_out['uni_url_count'] <= q75 + iqr))]\n",
    "display(df_url_count_out.uni_url_count[out])"
   ]
  },
  {
   "cell_type": "code",
   "execution_count": 41,
   "metadata": {
    "collapsed": true
   },
   "outputs": [],
   "source": [
    "# Read the indexes of the outliers above 100 page hits\n",
    "out_remove = [16, 101, 149, 157, 233, 259, 610, 2855]\n",
    "\n",
    "# Remove the outliers with the url count more than 100\n",
    "df_url_count_out = df_url_count_out.drop(df_url_count_out.index[out_remove]).reset_index(drop = True)"
   ]
  },
  {
   "cell_type": "code",
   "execution_count": 42,
   "metadata": {
    "collapsed": false
   },
   "outputs": [
    {
     "data": {
      "image/png": "[encoded data removed]",
      "text/plain": [
       "<matplotlib.figure.Figure at 0x22c8d5c0>"
      ]
     },
     "metadata": {},
     "output_type": "display_data"
    }
   ],
   "source": [
    "# Distribution of data points after removing the outliers\n",
    "fig = pyplot.figure()\n",
    "pyplot.scatter(df_url_count_out['client_ip_flat'], df_url_count_out['uni_url_count'])\n",
    "fig.suptitle('IP Address vs Unique Page Visits', fontsize=14)\n",
    "pyplot.xlabel('IP Address', fontsize=12)\n",
    "pyplot.ylabel('Unique Page Visits', fontsize=12)\n",
    "pyplot.show()"
   ]
  },
  {
   "cell_type": "markdown",
   "metadata": {},
   "source": [
    "#### Here I am using multi-class classification with four different classes. \n",
    "#### Number of unique page hits below 25 is considered class 1\n",
    "#### Number of unique page hits between 25 and 50 is considered class 2\n",
    "#### Number of unique page hits between 50 and 75 is considered class 3\n",
    "#### Number of unique page hits above 75 is considered class 4"
   ]
  },
  {
   "cell_type": "code",
   "execution_count": 44,
   "metadata": {
    "collapsed": false
   },
   "outputs": [],
   "source": [
    "# Classify the labels based on the number of page hits\n",
    "df_url_count_out['count_label'] = \"\"\n",
    "df_url_count_out.loc[df_url_count_out.uni_url_count < 25, 'count_label'] = 1\n",
    "df_url_count_out.loc[(25 <= df_url_count_out.uni_url_count) & (df_url_count_out.uni_url_count <= 50), 'count_label'] = 2\n",
    "df_url_count_out.loc[(50 <= df_url_count_out.uni_url_count) & (df_url_count_out.uni_url_count <= 75), 'count_label'] = 3\n",
    "df_url_count_out.loc[df_url_count_out.uni_url_count > 75, 'count_label'] = 4"
   ]
  },
  {
   "cell_type": "code",
   "execution_count": 53,
   "metadata": {
    "collapsed": false
   },
   "outputs": [],
   "source": [
    "# Normalize transformed IP addresses, as they are in large range of numbers\n",
    "scaler = MinMaxScaler()\n",
    "ip_scale = scaler.fit_transform(df_url_count_out['client_ip_flat'].values.reshape(-1, 1))\n",
    "\n",
    "# Assign labels\n",
    "sess_label = df_url_count_out['count_label'].astype(int)\n",
    "\n",
    "# One hot encoding of IP Address\n",
    "# new_data = pd.get_dummies(df_url_count_out['client_ip_flat'])   \n",
    "\n",
    "# Strip the last 3 digits of IP Address\n",
    "# new_data = df_url_count_out['client_ip_flat'].floordiv(1000)[:, None]\n",
    "\n",
    "#Strip the first 3 digits of the IP Address\n",
    "# new_data = divmod(df_url_count_out['client_ip_flat'], 1000000000)[1][:, None]\n",
    "\n",
    "# Split the data into training and testing data sets\n",
    "X_train, X_test, y_train, y_test = train_test_split(ip_scale, sess_label, test_size=0.20, random_state=0)"
   ]
  },
  {
   "cell_type": "code",
   "execution_count": 34,
   "metadata": {
    "collapsed": true
   },
   "outputs": [],
   "source": [
    "# Function for train and test classifiers\n",
    "def train_test_classifier_acc(clf, X_train, y_train, X_test, y_test):\n",
    "    # Train the classifier\n",
    "    clf.fit(X_train, y_train)\n",
    "    # Predict on the test data\n",
    "    predict = clf.predict(X_test)\n",
    "    # Report the chosen metric\n",
    "    accuracy = accuracy_score(y_test, predict) * 100\n",
    "    return accuracy"
   ]
  },
  {
   "cell_type": "code",
   "execution_count": 54,
   "metadata": {
    "collapsed": false
   },
   "outputs": [
    {
     "name": "stdout",
     "output_type": "stream",
     "text": [
      "The accuracy score is 94.62%\n"
     ]
    }
   ],
   "source": [
    "# Initialize the Logistic Regression Classifier\n",
    "clf = LogisticRegression(multi_class='multinomial', solver='lbfgs', random_state=0) \n",
    "# Call the function to train and test the classifier\n",
    "accuracy = train_test_classifier_acc(clf, X_train, y_train, X_test, y_test)\n",
    "# Report the metric\n",
    "print('The accuracy score is {:.2f}%'.format(accuracy))"
   ]
  },
  {
   "cell_type": "code",
   "execution_count": 55,
   "metadata": {
    "collapsed": false
   },
   "outputs": [
    {
     "name": "stdout",
     "output_type": "stream",
     "text": [
      "The accuracy score is 94.10%\n"
     ]
    }
   ],
   "source": [
    "# Initialize the Gradient Boosting Classifier\n",
    "from sklearn.tree import DecisionTreeClassifier\n",
    "clf = DecisionTreeClassifier(random_state=0)\n",
    "# Call the function to train and test the classifier\n",
    "accuracy = train_test_classifier_acc(clf, X_train, y_train, X_test, y_test)\n",
    "# Report the metric\n",
    "print('The accuracy score is {:.2f}%'.format(accuracy))"
   ]
  },
  {
   "cell_type": "markdown",
   "metadata": {},
   "source": [
    "## Predict expected load in the next time period"
   ]
  },
  {
   "cell_type": "code",
   "execution_count": 63,
   "metadata": {
    "collapsed": true
   },
   "outputs": [],
   "source": [
    "# Copy the request date time and strip the milliseconds\n",
    "df_time = pd.DataFrame({'request_time' : []})\n",
    "df_time['request_time'] = df.index\n",
    "df_time['request_time'] = df_time['request_time'].astype(str).str.split('.', 1).str[0].astype('datetime64[ns]')\n",
    "\n",
    "# Group by request time to count the number of requests every second\n",
    "df1 = pd.DataFrame({'count' : df_time.groupby(df_time.request_time).size()}).reset_index()\n",
    "\n",
    "# Normalize the count to bring down the range of values\n",
    "scaler = MinMaxScaler()\n",
    "df1['count'] = scaler.fit_transform(df1['count'].values.reshape(-1, 1))\n",
    "\n",
    "# set request time as the index\n",
    "df1.set_index('request_time', inplace=True)"
   ]
  },
  {
   "cell_type": "code",
   "execution_count": 65,
   "metadata": {
    "collapsed": false
   },
   "outputs": [],
   "source": [
    "# Take a continuous stream of one hour of data\n",
    "df2 = pd.DataFrame(df1.values[2416:3294])\n",
    "\n",
    "# Prepare data to store the current number of requests and the previous number of requests\n",
    "columns = [df2.shift(i) for i in range(1, 2)]\n",
    "columns.append(df2)\n",
    "df2 = pd.concat(columns, axis=1)\n",
    "\n",
    "# Update any null values with zero\n",
    "df2.fillna(0, inplace=True)"
   ]
  },
  {
   "cell_type": "code",
   "execution_count": 66,
   "metadata": {
    "collapsed": false
   },
   "outputs": [],
   "source": [
    "# Define the split for training (80%) and testing (20%) data sets\n",
    "split_no = round(len(df2) * 0.8)\n",
    "\n",
    "# Split the training and testing data in continuous blocks\n",
    "train = df2.values[0:split_no]\n",
    "test = df2.values[split_no:]\n",
    "\n",
    "# Prepare the data, as needed by the model\n",
    "train = train.reshape(train.shape[0], train.shape[1])\n",
    "test = test.reshape(test.shape[0], test.shape[1])\n",
    "\n",
    "# Reshape the training data\n",
    "X_train, y_train = train[:, 0:-1], train[:, -1]\n",
    "X_train = X_train.reshape(X_train.shape[0], 1, X_train.shape[1])"
   ]
  },
  {
   "cell_type": "code",
   "execution_count": 67,
   "metadata": {
    "collapsed": true
   },
   "outputs": [],
   "source": [
    "# Build the model\n",
    "model = Sequential()\n",
    "\n",
    "# Define first LSTM layer and add a drop out of 20 percent\n",
    "# return_sequence true means this layers output is fed into next layer\n",
    "model.add(LSTM(1, input_shape=(None, 1), return_sequences=True))\n",
    "model.add(Dropout(0.2))\n",
    "\n",
    "# Define second LSTM layer and add dropout of 20 percent for this layer\n",
    "model.add(LSTM(100, return_sequences=False))\n",
    "model.add(Dropout(0.2))\n",
    "\n",
    "# Add a dense output layer and apply activation function\n",
    "model.add(Dense(units=1))\n",
    "model.add(Activation('linear'))\n",
    "\n",
    "# Compile the model with loss function - Mean Squared Error and Optimizer - Gradient Descent\n",
    "model.compile(loss='mse', optimizer='rmsprop')"
   ]
  },
  {
   "cell_type": "code",
   "execution_count": 68,
   "metadata": {
    "collapsed": false
   },
   "outputs": [
    {
     "name": "stdout",
     "output_type": "stream",
     "text": [
      "Train on 631 samples, validate on 71 samples\n",
      "Epoch 1/150\n",
      "631/631 [==============================] - 5s - loss: 0.1429 - val_loss: 0.1162\n",
      "Epoch 2/150\n",
      "631/631 [==============================] - 0s - loss: 0.1171 - val_loss: 0.0950\n",
      "Epoch 3/150\n",
      "631/631 [==============================] - 0s - loss: 0.0988 - val_loss: 0.0773\n",
      "Epoch 4/150\n",
      "631/631 [==============================] - 0s - loss: 0.0828 - val_loss: 0.0618\n",
      "Epoch 5/150\n",
      "631/631 [==============================] - 0s - loss: 0.0695 - val_loss: 0.0483\n",
      "Epoch 6/150\n",
      "631/631 [==============================] - 0s - loss: 0.0576 - val_loss: 0.0367\n",
      "Epoch 7/150\n",
      "631/631 [==============================] - 0s - loss: 0.0480 - val_loss: 0.0271\n",
      "Epoch 8/150\n",
      "631/631 [==============================] - 0s - loss: 0.0395 - val_loss: 0.0193\n",
      "Epoch 9/150\n",
      "631/631 [==============================] - 0s - loss: 0.0340 - val_loss: 0.0135\n",
      "Epoch 10/150\n",
      "631/631 [==============================] - 0s - loss: 0.0292 - val_loss: 0.0092\n",
      "Epoch 11/150\n",
      "631/631 [==============================] - 0s - loss: 0.0262 - val_loss: 0.0064\n",
      "Epoch 12/150\n",
      "631/631 [==============================] - 0s - loss: 0.0245 - val_loss: 0.0047\n",
      "Epoch 13/150\n",
      "631/631 [==============================] - 0s - loss: 0.0235 - val_loss: 0.0038\n",
      "Epoch 14/150\n",
      "631/631 [==============================] - 0s - loss: 0.0232 - val_loss: 0.0033\n",
      "Epoch 15/150\n",
      "631/631 [==============================] - 0s - loss: 0.0229 - val_loss: 0.0031\n",
      "Epoch 16/150\n",
      "631/631 [==============================] - 0s - loss: 0.0230 - val_loss: 0.0029\n",
      "Epoch 17/150\n",
      "631/631 [==============================] - 0s - loss: 0.0230 - val_loss: 0.0029\n",
      "Epoch 18/150\n",
      "631/631 [==============================] - 0s - loss: 0.0227 - val_loss: 0.0028\n",
      "Epoch 19/150\n",
      "631/631 [==============================] - 0s - loss: 0.0229 - val_loss: 0.0028\n",
      "Epoch 20/150\n",
      "631/631 [==============================] - 0s - loss: 0.0228 - val_loss: 0.0028\n",
      "Epoch 21/150\n",
      "631/631 [==============================] - 0s - loss: 0.0223 - val_loss: 0.0028\n",
      "Epoch 22/150\n",
      "631/631 [==============================] - 0s - loss: 0.0221 - val_loss: 0.0028\n",
      "Epoch 23/150\n",
      "631/631 [==============================] - 0s - loss: 0.0223 - val_loss: 0.0028\n",
      "Epoch 24/150\n",
      "631/631 [==============================] - 0s - loss: 0.0220 - val_loss: 0.0028\n",
      "Epoch 25/150\n",
      "631/631 [==============================] - 0s - loss: 0.0220 - val_loss: 0.0027\n",
      "Epoch 26/150\n",
      "631/631 [==============================] - 0s - loss: 0.0216 - val_loss: 0.0027\n",
      "Epoch 27/150\n",
      "631/631 [==============================] - 0s - loss: 0.0217 - val_loss: 0.0027\n",
      "Epoch 28/150\n",
      "631/631 [==============================] - 0s - loss: 0.0213 - val_loss: 0.0027\n",
      "Epoch 29/150\n",
      "631/631 [==============================] - 0s - loss: 0.0214 - val_loss: 0.0027\n",
      "Epoch 30/150\n",
      "631/631 [==============================] - 0s - loss: 0.0211 - val_loss: 0.0027\n",
      "Epoch 31/150\n",
      "631/631 [==============================] - 0s - loss: 0.0209 - val_loss: 0.0027\n",
      "Epoch 32/150\n",
      "631/631 [==============================] - 0s - loss: 0.0209 - val_loss: 0.0027\n",
      "Epoch 33/150\n",
      "631/631 [==============================] - 0s - loss: 0.0208 - val_loss: 0.0027\n",
      "Epoch 34/150\n",
      "631/631 [==============================] - 0s - loss: 0.0203 - val_loss: 0.0027\n",
      "Epoch 35/150\n",
      "631/631 [==============================] - 0s - loss: 0.0210 - val_loss: 0.0027\n",
      "Epoch 36/150\n",
      "631/631 [==============================] - 0s - loss: 0.0201 - val_loss: 0.0027\n",
      "Epoch 37/150\n",
      "631/631 [==============================] - 0s - loss: 0.0196 - val_loss: 0.0026\n",
      "Epoch 38/150\n",
      "631/631 [==============================] - 0s - loss: 0.0194 - val_loss: 0.0026\n",
      "Epoch 39/150\n",
      "631/631 [==============================] - 0s - loss: 0.0203 - val_loss: 0.0026\n",
      "Epoch 40/150\n",
      "631/631 [==============================] - 0s - loss: 0.0203 - val_loss: 0.0026\n",
      "Epoch 41/150\n",
      "631/631 [==============================] - 0s - loss: 0.0193 - val_loss: 0.0026\n",
      "Epoch 42/150\n",
      "631/631 [==============================] - 0s - loss: 0.0190 - val_loss: 0.0026\n",
      "Epoch 43/150\n",
      "631/631 [==============================] - 0s - loss: 0.0190 - val_loss: 0.0026\n",
      "Epoch 44/150\n",
      "631/631 [==============================] - 0s - loss: 0.0191 - val_loss: 0.0026\n",
      "Epoch 45/150\n",
      "631/631 [==============================] - 0s - loss: 0.0190 - val_loss: 0.0026\n",
      "Epoch 46/150\n",
      "631/631 [==============================] - 0s - loss: 0.0189 - val_loss: 0.0026\n",
      "Epoch 47/150\n",
      "631/631 [==============================] - 0s - loss: 0.0190 - val_loss: 0.0026\n",
      "Epoch 48/150\n",
      "631/631 [==============================] - 0s - loss: 0.0190 - val_loss: 0.0026\n",
      "Epoch 49/150\n",
      "631/631 [==============================] - 0s - loss: 0.0193 - val_loss: 0.0026\n",
      "Epoch 50/150\n",
      "631/631 [==============================] - 0s - loss: 0.0187 - val_loss: 0.0026\n",
      "Epoch 51/150\n",
      "631/631 [==============================] - 0s - loss: 0.0186 - val_loss: 0.0026\n",
      "Epoch 52/150\n",
      "631/631 [==============================] - 0s - loss: 0.0187 - val_loss: 0.0026\n",
      "Epoch 53/150\n",
      "631/631 [==============================] - 0s - loss: 0.0181 - val_loss: 0.0026\n",
      "Epoch 54/150\n",
      "631/631 [==============================] - 0s - loss: 0.0184 - val_loss: 0.0026\n",
      "Epoch 55/150\n",
      "631/631 [==============================] - 0s - loss: 0.0177 - val_loss: 0.0026\n",
      "Epoch 56/150\n",
      "631/631 [==============================] - 0s - loss: 0.0181 - val_loss: 0.0026\n",
      "Epoch 57/150\n",
      "631/631 [==============================] - 0s - loss: 0.0173 - val_loss: 0.0026\n",
      "Epoch 58/150\n",
      "631/631 [==============================] - 0s - loss: 0.0172 - val_loss: 0.0026\n",
      "Epoch 59/150\n",
      "631/631 [==============================] - 0s - loss: 0.0172 - val_loss: 0.0025\n",
      "Epoch 60/150\n",
      "631/631 [==============================] - 0s - loss: 0.0183 - val_loss: 0.0026\n",
      "Epoch 61/150\n",
      "631/631 [==============================] - 0s - loss: 0.0182 - val_loss: 0.0026\n",
      "Epoch 62/150\n",
      "631/631 [==============================] - 0s - loss: 0.0177 - val_loss: 0.0025\n",
      "Epoch 63/150\n",
      "631/631 [==============================] - 0s - loss: 0.0170 - val_loss: 0.0025\n",
      "Epoch 64/150\n",
      "631/631 [==============================] - 0s - loss: 0.0183 - val_loss: 0.0025\n",
      "Epoch 65/150\n",
      "631/631 [==============================] - 0s - loss: 0.0190 - val_loss: 0.0025\n",
      "Epoch 66/150\n",
      "631/631 [==============================] - 0s - loss: 0.0179 - val_loss: 0.0025\n",
      "Epoch 67/150\n",
      "631/631 [==============================] - 0s - loss: 0.0171 - val_loss: 0.0025\n",
      "Epoch 68/150\n",
      "631/631 [==============================] - 0s - loss: 0.0168 - val_loss: 0.0025\n",
      "Epoch 69/150\n",
      "631/631 [==============================] - 0s - loss: 0.0175 - val_loss: 0.0025\n",
      "Epoch 70/150\n",
      "631/631 [==============================] - 0s - loss: 0.0171 - val_loss: 0.0025\n",
      "Epoch 71/150\n",
      "631/631 [==============================] - 0s - loss: 0.0181 - val_loss: 0.0025\n",
      "Epoch 72/150\n",
      "631/631 [==============================] - 0s - loss: 0.0179 - val_loss: 0.0025\n",
      "Epoch 73/150\n",
      "631/631 [==============================] - 0s - loss: 0.0183 - val_loss: 0.0025\n",
      "Epoch 74/150\n",
      "631/631 [==============================] - 0s - loss: 0.0171 - val_loss: 0.0025\n",
      "Epoch 75/150\n",
      "631/631 [==============================] - 0s - loss: 0.0169 - val_loss: 0.0025\n",
      "Epoch 76/150\n",
      "631/631 [==============================] - 0s - loss: 0.0162 - val_loss: 0.0025\n",
      "Epoch 77/150\n",
      "631/631 [==============================] - 0s - loss: 0.0173 - val_loss: 0.0025\n",
      "Epoch 78/150\n",
      "631/631 [==============================] - 0s - loss: 0.0165 - val_loss: 0.0025\n",
      "Epoch 79/150\n",
      "631/631 [==============================] - 0s - loss: 0.0174 - val_loss: 0.0025\n",
      "Epoch 80/150\n",
      "631/631 [==============================] - 0s - loss: 0.0172 - val_loss: 0.0025\n",
      "Epoch 81/150\n",
      "631/631 [==============================] - 0s - loss: 0.0166 - val_loss: 0.0025\n",
      "Epoch 82/150\n",
      "631/631 [==============================] - 0s - loss: 0.0165 - val_loss: 0.0025\n",
      "Epoch 83/150\n",
      "631/631 [==============================] - 0s - loss: 0.0159 - val_loss: 0.0026\n",
      "Epoch 84/150\n",
      "631/631 [==============================] - 0s - loss: 0.0149 - val_loss: 0.0025\n",
      "Epoch 85/150\n",
      "631/631 [==============================] - 0s - loss: 0.0176 - val_loss: 0.0025\n",
      "Epoch 86/150\n",
      "631/631 [==============================] - 0s - loss: 0.0159 - val_loss: 0.0025\n",
      "Epoch 87/150\n",
      "631/631 [==============================] - 0s - loss: 0.0151 - val_loss: 0.0025\n",
      "Epoch 88/150\n",
      "631/631 [==============================] - 0s - loss: 0.0163 - val_loss: 0.0025\n",
      "Epoch 89/150\n",
      "631/631 [==============================] - 0s - loss: 0.0157 - val_loss: 0.0025\n",
      "Epoch 90/150\n",
      "631/631 [==============================] - 0s - loss: 0.0155 - val_loss: 0.0025\n",
      "Epoch 91/150\n",
      "631/631 [==============================] - 0s - loss: 0.0166 - val_loss: 0.0025\n",
      "Epoch 92/150\n",
      "631/631 [==============================] - 0s - loss: 0.0153 - val_loss: 0.0025\n",
      "Epoch 93/150\n",
      "631/631 [==============================] - 0s - loss: 0.0155 - val_loss: 0.0025\n",
      "Epoch 94/150\n",
      "631/631 [==============================] - 0s - loss: 0.0155 - val_loss: 0.0025\n",
      "Epoch 95/150\n",
      "631/631 [==============================] - 0s - loss: 0.0160 - val_loss: 0.0025\n",
      "Epoch 96/150\n",
      "631/631 [==============================] - 0s - loss: 0.0149 - val_loss: 0.0025\n",
      "Epoch 97/150\n",
      "631/631 [==============================] - 0s - loss: 0.0151 - val_loss: 0.0025\n",
      "Epoch 98/150\n",
      "631/631 [==============================] - 0s - loss: 0.0144 - val_loss: 0.0025\n",
      "Epoch 99/150\n",
      "631/631 [==============================] - 0s - loss: 0.0143 - val_loss: 0.0025\n",
      "Epoch 100/150\n",
      "631/631 [==============================] - 0s - loss: 0.0143 - val_loss: 0.0025\n",
      "Epoch 101/150\n",
      "631/631 [==============================] - 0s - loss: 0.0152 - val_loss: 0.0025\n",
      "Epoch 102/150\n",
      "631/631 [==============================] - 0s - loss: 0.0147 - val_loss: 0.0025\n",
      "Epoch 103/150\n",
      "631/631 [==============================] - 0s - loss: 0.0153 - val_loss: 0.0025\n",
      "Epoch 104/150\n",
      "631/631 [==============================] - 0s - loss: 0.0149 - val_loss: 0.0025\n",
      "Epoch 105/150\n",
      "631/631 [==============================] - 0s - loss: 0.0146 - val_loss: 0.0025\n",
      "Epoch 106/150\n",
      "631/631 [==============================] - 0s - loss: 0.0144 - val_loss: 0.0025\n",
      "Epoch 107/150\n",
      "631/631 [==============================] - 0s - loss: 0.0139 - val_loss: 0.0025\n",
      "Epoch 108/150\n",
      "631/631 [==============================] - 0s - loss: 0.0139 - val_loss: 0.0025\n",
      "Epoch 109/150\n",
      "631/631 [==============================] - 0s - loss: 0.0141 - val_loss: 0.0025\n",
      "Epoch 110/150\n",
      "631/631 [==============================] - 0s - loss: 0.0136 - val_loss: 0.0025\n",
      "Epoch 111/150\n",
      "631/631 [==============================] - 0s - loss: 0.0142 - val_loss: 0.0025\n",
      "Epoch 112/150\n",
      "631/631 [==============================] - 0s - loss: 0.0137 - val_loss: 0.0025\n",
      "Epoch 113/150\n",
      "631/631 [==============================] - 0s - loss: 0.0142 - val_loss: 0.0025\n",
      "Epoch 114/150\n",
      "631/631 [==============================] - 0s - loss: 0.0135 - val_loss: 0.0025\n",
      "Epoch 115/150\n",
      "631/631 [==============================] - 0s - loss: 0.0134 - val_loss: 0.0025\n",
      "Epoch 116/150\n",
      "631/631 [==============================] - 0s - loss: 0.0140 - val_loss: 0.0025\n",
      "Epoch 117/150\n",
      "631/631 [==============================] - 0s - loss: 0.0136 - val_loss: 0.0025\n",
      "Epoch 118/150\n",
      "631/631 [==============================] - 0s - loss: 0.0133 - val_loss: 0.0025\n",
      "Epoch 119/150\n",
      "631/631 [==============================] - 0s - loss: 0.0139 - val_loss: 0.0025\n",
      "Epoch 120/150\n",
      "631/631 [==============================] - 0s - loss: 0.0133 - val_loss: 0.0025\n",
      "Epoch 121/150\n",
      "631/631 [==============================] - 0s - loss: 0.0130 - val_loss: 0.0026\n",
      "Epoch 122/150\n",
      "631/631 [==============================] - 0s - loss: 0.0133 - val_loss: 0.0026\n",
      "Epoch 123/150\n",
      "631/631 [==============================] - 0s - loss: 0.0134 - val_loss: 0.0026\n",
      "Epoch 124/150\n",
      "631/631 [==============================] - 0s - loss: 0.0138 - val_loss: 0.0026\n",
      "Epoch 125/150\n",
      "631/631 [==============================] - 0s - loss: 0.0121 - val_loss: 0.0025\n",
      "Epoch 126/150\n",
      "631/631 [==============================] - 0s - loss: 0.0130 - val_loss: 0.0025\n",
      "Epoch 127/150\n",
      "631/631 [==============================] - 0s - loss: 0.0134 - val_loss: 0.0026\n",
      "Epoch 128/150\n",
      "631/631 [==============================] - 0s - loss: 0.0130 - val_loss: 0.0026\n",
      "Epoch 129/150\n",
      "631/631 [==============================] - 0s - loss: 0.0133 - val_loss: 0.0026\n",
      "Epoch 130/150\n",
      "631/631 [==============================] - 0s - loss: 0.0112 - val_loss: 0.0026\n",
      "Epoch 131/150\n",
      "631/631 [==============================] - 0s - loss: 0.0127 - val_loss: 0.0025\n",
      "Epoch 132/150\n",
      "631/631 [==============================] - 0s - loss: 0.0125 - val_loss: 0.0025\n",
      "Epoch 133/150\n",
      "631/631 [==============================] - 0s - loss: 0.0121 - val_loss: 0.0026\n",
      "Epoch 134/150\n",
      "631/631 [==============================] - 0s - loss: 0.0123 - val_loss: 0.0026\n",
      "Epoch 135/150\n",
      "631/631 [==============================] - 0s - loss: 0.0113 - val_loss: 0.0026\n",
      "Epoch 136/150\n",
      "631/631 [==============================] - 0s - loss: 0.0139 - val_loss: 0.0026\n",
      "Epoch 137/150\n",
      "631/631 [==============================] - 0s - loss: 0.0120 - val_loss: 0.0026\n",
      "Epoch 138/150\n",
      "631/631 [==============================] - 0s - loss: 0.0122 - val_loss: 0.0026\n",
      "Epoch 139/150\n",
      "631/631 [==============================] - 0s - loss: 0.0112 - val_loss: 0.0026\n",
      "Epoch 140/150\n",
      "631/631 [==============================] - 0s - loss: 0.0121 - val_loss: 0.0026\n",
      "Epoch 141/150\n",
      "631/631 [==============================] - 0s - loss: 0.0111 - val_loss: 0.0026\n",
      "Epoch 142/150\n",
      "631/631 [==============================] - 0s - loss: 0.0123 - val_loss: 0.0026\n",
      "Epoch 143/150\n",
      "631/631 [==============================] - 0s - loss: 0.0116 - val_loss: 0.0026\n",
      "Epoch 144/150\n",
      "631/631 [==============================] - 0s - loss: 0.0123 - val_loss: 0.0026\n",
      "Epoch 145/150\n",
      "631/631 [==============================] - 0s - loss: 0.0115 - val_loss: 0.0026\n",
      "Epoch 146/150\n",
      "631/631 [==============================] - 0s - loss: 0.0108 - val_loss: 0.0026\n",
      "Epoch 147/150\n",
      "631/631 [==============================] - 0s - loss: 0.0115 - val_loss: 0.0026\n",
      "Epoch 148/150\n",
      "631/631 [==============================] - 0s - loss: 0.0104 - val_loss: 0.0026\n",
      "Epoch 149/150\n",
      "631/631 [==============================] - 0s - loss: 0.0113 - val_loss: 0.0026\n",
      "Epoch 150/150\n",
      "631/631 [==============================] - 0s - loss: 0.0109 - val_loss: 0.0026\n"
     ]
    },
    {
     "data": {
      "text/plain": [
       "<keras.callbacks.History at 0x1062d9e8>"
      ]
     },
     "execution_count": 68,
     "metadata": {},
     "output_type": "execute_result"
    }
   ],
   "source": [
    "# Train the model\n",
    "model.fit(X_train, y_train, batch_size=128, epochs=150, validation_split=0.1, shuffle=False)"
   ]
  },
  {
   "cell_type": "code",
   "execution_count": 69,
   "metadata": {
    "collapsed": false
   },
   "outputs": [],
   "source": [
    "# Reshape the testing data\n",
    "X_test, y_test = test[:, 0:-1], test[:, -1]\n",
    "X_test = X_test.reshape(X_test.shape[0], 1, X_test.shape[1])\n",
    "\n",
    "# Predict on the test data using trained model\n",
    "predicted = model.predict(X_test)"
   ]
  },
  {
   "cell_type": "code",
   "execution_count": 73,
   "metadata": {
    "collapsed": false
   },
   "outputs": [
    {
     "data": {
      "image/png": "[encoded data removed]",
      "text/plain": [
       "<matplotlib.figure.Figure at 0x1084fdd8>"
      ]
     },
     "metadata": {},
     "output_type": "display_data"
    }
   ],
   "source": [
    "# Plot the actual and predicted test data\n",
    "fig = pyplot.figure(figsize=(10,5))\n",
    "ax = fig.add_subplot(111)\n",
    "ax.plot(y_test, label='Actual')\n",
    "ax.plot(predicted, label='Predicted')\n",
    "ax.set_xlabel('Time Interval')\n",
    "ax.set_ylabel('No of Requests')\n",
    "ax.set_title('Requests vs Time Interval')\n",
    "pyplot.show()"
   ]
  }
 ],
 "metadata": {
  "anaconda-cloud": {},
  "kernelspec": {
   "display_name": "Python [conda env:tensorflow]",
   "language": "python",
   "name": "conda-env-tensorflow-py"
  },
  "language_info": {
   "codemirror_mode": {
    "name": "ipython",
    "version": 3
   },
   "file_extension": ".py",
   "mimetype": "text/x-python",
   "name": "python",
   "nbconvert_exporter": "python",
   "pygments_lexer": "ipython3",
   "version": "3.5.3"
  }
 },
 "nbformat": 4,
 "nbformat_minor": 1
}
